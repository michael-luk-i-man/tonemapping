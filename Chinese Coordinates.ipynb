{
 "cells": [
  {
   "cell_type": "code",
   "execution_count": 2,
   "metadata": {
    "collapsed": false
   },
   "outputs": [
    {
     "name": "stdout",
     "output_type": "stream",
     "text": [
      "    Tone  Pinyin Character                              Meaning\n",
      "0       3     yu         与                             and/with\n",
      "1       1     fu         夫                         husband; man\n",
      "2       1     qi         妻                                 wife\n",
      "3       4    tui         退                            move back\n",
      "4       1    xiu         休                                cease\n",
      "5       2     bo         博                   plentiful; erudite\n",
      "6       4     wu         物                         thing; other\n",
      "7       3   guan         馆                         accomodation\n",
      "8       4    san         散                             disperse\n",
      "9       4     bu         步                                 step\n",
      "10      4   duan         锻                                forge\n",
      "11      4   lian         炼                        smelt; temper\n",
      "12      1   quan         圈                             encircle\n",
      "13      2    pai         排                              line up\n",
      "14      4    dui         队                      m. rows columns\n",
      "15      4    tai         太                             greatest\n",
      "16      2     ji         极                               utmost\n",
      "17      2   quan         拳                             pugilism\n",
      "18      3    zao         早                       morning; early\n",
      "19      2   chen         晨                              morning\n",
      "20      2  cheng         成                           accomplish\n",
      "21      2    wei         为                      do; act; become\n",
      "22      3    shi         使                       to make; cause\n",
      "23      3   xian         显                            to appear\n",
      "24      0     de         得                to express capability\n",
      "25      2    huo         活                          live; alive\n",
      "26      4     li         力                    physical strength\n",
      "27      1    chu         出                                 exit\n",
      "28      2    men         门                                 door\n",
      "29      2     yu         瑜                            fine jade\n",
      "..    ...    ...       ...                                  ...\n",
      "54      2    sui         随                        follow; compy\n",
      "55      4   bian         便                    urine; convenient\n",
      "56      2     ji         即                               assume\n",
      "57      3    shi         使                          make; cause\n",
      "58      2   ying         营              seek; operate; barracks\n",
      "59      3   yang         养                 cultivation; support\n",
      "60      3    bao         饱                       full; satiated\n",
      "61      3     ke         可                       approve; ready\n",
      "62      4   jian         见              opinion; meet with; see\n",
      "63      1     ke         科           branch; discipline; course\n",
      "64      2    xue         学                      learning; study\n",
      "65      1   fang         方                     square; exponent\n",
      "66      4   mian         面                        face; surface\n",
      "67      1     xi         吸                         inhale; suck\n",
      "68      1    yan         烟                           smoke; cig\n",
      "69      2     ao         熬                cook; extract essence\n",
      "70      4     ye         夜                                night\n",
      "71      4     bi         必               certainly; necessarily\n",
      "72      1     xu         须                           must; wait\n",
      "73      3     bu         补                         mend; supply\n",
      "74      1  chong         充              fill; serve as; pose as\n",
      "75      4   shui         睡                                sleep\n",
      "76      2   mian         眠                             dormancy\n",
      "77      3    fou         否                   negate; disapprove\n",
      "78      2     ze         则                       standard; rule\n",
      "79      1    zhi         只  m. some paired things; some animals\n",
      "80      2  xiong         熊                         bear; gloomy\n",
      "81      1    mao         猫           cat; conceal; bend forward\n",
      "82      3     Li         李                                 plum\n",
      "83      2    Wen         文                             language\n",
      "\n",
      "[84 rows x 4 columns]\n"
     ]
    }
   ],
   "source": [
    "import pandas as ps\n",
    "\n",
    "df = ps.read_csv('wordmap1.csv')\n",
    "\n",
    "print(df)"
   ]
  },
  {
   "cell_type": "code",
   "execution_count": null,
   "metadata": {
    "collapsed": true
   },
   "outputs": [],
   "source": [
    "df = df[df['Tone ']][df['Pinyin']]"
   ]
  },
  {
   "cell_type": "code",
   "execution_count": null,
   "metadata": {
    "collapsed": true
   },
   "outputs": [],
   "source": [
    "print(df)"
   ]
  },
  {
   "cell_type": "code",
   "execution_count": null,
   "metadata": {
    "collapsed": true
   },
   "outputs": [],
   "source": []
  }
 ],
 "metadata": {
  "kernelspec": {
   "display_name": "Python 3",
   "language": "python",
   "name": "python3"
  },
  "language_info": {
   "codemirror_mode": {
    "name": "ipython",
    "version": 3
   },
   "file_extension": ".py",
   "mimetype": "text/x-python",
   "name": "python",
   "nbconvert_exporter": "python",
   "pygments_lexer": "ipython3",
   "version": "3.5.3"
  }
 },
 "nbformat": 4,
 "nbformat_minor": 2
}
